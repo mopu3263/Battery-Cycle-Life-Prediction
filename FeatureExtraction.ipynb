{
 "cells": [
  {
   "cell_type": "markdown",
   "metadata": {},
   "source": [
    "# Features Extraction Function"
   ]
  },
  {
   "cell_type": "code",
   "execution_count": 1,
   "metadata": {},
   "outputs": [],
   "source": [
    "import numpy as np\n",
    "import pandas as pd"
   ]
  },
  {
   "cell_type": "markdown",
   "metadata": {},
   "source": [
    "HELPERGETFEATURES function accepts the raw measurement data and computes\n",
    "the following feature:\n",
    "\n",
    "-Q_{100-10}(V) variance [DeltaQ_var]                                                                                           \n",
    "-Q_{100-10}(V) minimum [DeltaQ_min]                                                                                            \n",
    "-Slope of linear fit to the capacity fade curve cycles 2 to 100 [CapFadeCycle2Slope]                                           \n",
    "-Intercept of linear fit to capacity fade curve, cycles 2 to 100 [CapFadeCycle2Intercept]                                       \n",
    "-Discharge capacity at cycle 2 [Qd2]                                                                                           \n",
    "-Average charge time over first 5 cycles [AvgChargeTime]                                                                       \n",
    "-Minimum Internal Resistance, cycles 2 to 100 [MinIR]                                                                          \n",
    "-Internal Resistance difference between cycles 2 and 100 [IRDiff2And100]"
   ]
  },
  {
   "cell_type": "code",
   "execution_count": 2,
   "metadata": {},
   "outputs": [],
   "source": [
    "def Feature(batch,f):\n",
    "\n",
    "    #First covnert Matlab .mat files to Python dictionary\n",
    "    num_cells = batch['summary'].shape[0]\n",
    "    batch_dict = {}\n",
    "    for i in range(num_cells):\n",
    "        cl = f[(batch['cycle_life'][i,0])]\n",
    "        Vdlin = np.hstack(f[batch['Vdlin'][i,0]][0,:].tolist())\n",
    "        summary_CY = np.hstack(f[batch['summary'][i,0]]['cycle'][0,:].tolist())\n",
    "        summary_QD = np.hstack(f[batch['summary'][i,0]]['QDischarge'][0,:].tolist())\n",
    "        summary_IR = np.hstack(f[batch['summary'][i,0]]['IR'][0,:].tolist())\n",
    "        summary_CT = np.hstack(f[batch['summary'][i,0]]['chargetime'][0,:].tolist())\n",
    "        summary = {'cycle': summary_CY,'QD': summary_QD,'IR': summary_IR, 'chargetime': summary_CT}\n",
    "\n",
    "        cycles = f[batch['cycles'][i,0]]\n",
    "        cycle_dict = {}\n",
    "        for j in range(cycles['t'].shape[0]):\n",
    "            t = np.hstack(f[cycles['t'][j,0]])\n",
    "            T = np.hstack(f[cycles['T'][j,0]])\n",
    "            Qdlin = np.hstack(f[cycles['Qdlin'][j,0]])\n",
    "\n",
    "            cd = {'t':t,'T': T,'Qdlin': Qdlin}\n",
    "            cycle_dict[str(j)] = cd\n",
    "\n",
    "\n",
    "        cell_dict = {'cycle_life': cl, 'Vdlin':Vdlin, 'summary': summary, 'cycles': cycle_dict}\n",
    "        key = 'c' + str(i)\n",
    "        batch_dict[key]=   cell_dict    \n",
    "    #return batch_dict\n",
    "\n",
    "    #Then extract useful features from the dictionary\n",
    "    DeltaQ_var=[]\n",
    "    DeltaQ_min=[]\n",
    "    CapFadeCycle2Slope=[]\n",
    "    CapFadeCycle2Intercept=[]\n",
    "    Qd2=[]\n",
    "    AvgChargeTime=[]\n",
    "    MinIR=[]\n",
    "    IRDiff2And100=[]\n",
    "    CycleLife=[]\n",
    "    for i in batch_dict.keys():    \n",
    "        cl = batch_dict[i]['cycle_life'][0,0]\n",
    "        #compute Q_100_10 stats\n",
    "        a = np.log10(abs((batch_dict[i]['cycles']['100']['Qdlin']-batch_dict[i]['cycles']['10']['Qdlin']).var()))\n",
    "        b = np.log10(abs((batch_dict[i]['cycles']['100']['Qdlin']-batch_dict[i]['cycles']['10']['Qdlin']).min()))\n",
    "\n",
    "        # Slope and intercept of linear fit for capacity fade curve from cycle 2 to cycle 100\n",
    "        coeff2=np.polyfit(batch_dict[i]['summary']['cycle'][2:100], batch_dict[i]['summary']['QD'][2:100],1)\n",
    "        c = coeff2[0]\n",
    "        d = coeff2[1]\n",
    "\n",
    "        #  Discharge capacity at cycle 2\n",
    "        e=batch_dict[i]['summary']['QD'][2]\n",
    "\n",
    "        # Avg charge time, first 5 cycles (2 to 6)\n",
    "        f=np.mean(batch_dict[i]['summary']['chargetime'][2:6])\n",
    "\n",
    "        #minimum iR from cycles 2 to 100\n",
    "        g=min(x for x in batch_dict[i]['summary']['IR'][2:100] if x!=0)\n",
    "        h= batch_dict[i]['summary']['IR'][100]-batch_dict[i]['summary']['IR'][2]\n",
    "        CycleLife.append(cl)\n",
    "        DeltaQ_var.append(a)\n",
    "        DeltaQ_min.append(b)\n",
    "        CapFadeCycle2Slope.append(c)\n",
    "        CapFadeCycle2Intercept.append(d)\n",
    "        Qd2.append(e)\n",
    "        AvgChargeTime.append(f)\n",
    "        MinIR.append(g)\n",
    "        IRDiff2And100.append(h)\n",
    "        j={\"DeltaQ_var\":DeltaQ_var,\"DeltaQ_min\":DeltaQ_min,\"CapFadeCycle2Slope\":CapFadeCycle2Slope,\n",
    "           \"CapFadeCycle2Intercept\":CapFadeCycle2Intercept,\"Qd2\":Qd2,\"AvgChargeTime\":AvgChargeTime,\n",
    "           \"MinIR\":MinIR,\"IRDiff2And100\":IRDiff2And100,\"CycleLife\":CycleLife}\n",
    "    df=pd.DataFrame(j)\n",
    "    return batch_dict, df"
   ]
  },
  {
   "cell_type": "code",
   "execution_count": null,
   "metadata": {},
   "outputs": [],
   "source": []
  }
 ],
 "metadata": {
  "kernelspec": {
   "display_name": "Python 3",
   "language": "python",
   "name": "python3"
  },
  "language_info": {
   "codemirror_mode": {
    "name": "ipython",
    "version": 3
   },
   "file_extension": ".py",
   "mimetype": "text/x-python",
   "name": "python",
   "nbconvert_exporter": "python",
   "pygments_lexer": "ipython3",
   "version": "3.8.5"
  }
 },
 "nbformat": 4,
 "nbformat_minor": 4
}
